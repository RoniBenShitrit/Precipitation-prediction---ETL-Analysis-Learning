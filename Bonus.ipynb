{
 "cells": [
  {
   "cell_type": "markdown",
   "metadata": {},
   "source": [
    "# BONUS\n",
    "We will try to find evidence of global warming in our data.\n",
    "\n"
   ]
  },
  {
   "cell_type": "code",
   "execution_count": 19,
   "metadata": {
    "pycharm": {
     "name": "#%%\n"
    }
   },
   "outputs": [],
   "source": [
    "import findspark\n",
    "\n",
    "findspark.init()\n",
    "import os\n",
    "from pyspark.sql import SparkSession\n",
    "import pyspark.sql.functions as F\n",
    "from pyspark.ml.feature import VectorAssembler\n",
    "from pyspark.ml.regression import LinearRegression"
   ]
  },
  {
   "cell_type": "code",
   "execution_count": 20,
   "metadata": {
    "pycharm": {
     "name": "#%%\n"
    }
   },
   "outputs": [],
   "source": [
    "os.environ[\n",
    "    'PYSPARK_SUBMIT_ARGS'] = \"--packages=org.apache.spark:spark-sql-kafka-0-10_2.11:2.4.4,\"\\\n",
    "                             \"com.microsoft.azure:spark-mssql-connector:1.0.2 pyspark-shell\"\n"
   ]
  },
  {
   "cell_type": "markdown",
   "metadata": {},
   "source": [
    "Start our spark session and define out global parameters"
   ]
  },
  {
   "cell_type": "code",
   "execution_count": 21,
   "metadata": {
    "pycharm": {
     "name": "#%%\n"
    }
   },
   "outputs": [],
   "source": [
    "def init_spark(app_name):\n",
    "    spark = SparkSession.builder.appName(app_name).getOrCreate()\n",
    "    sc = spark.sparkContext\n",
    "    return spark, sc\n",
    "\n",
    "\n",
    "server_name = \"ServerName\"\n",
    "database_name = \"DatabaseName\"\n",
    "url = server_name + \";\" + \"databaseName=\" + database_name + \";\"\n",
    "table_name = \"TableName\"\n",
    "username = \"Username\"\n",
    "password = \"Password\"\n",
    "spark, sc = init_spark('Project')\n",
    "kafka_server = 'dds2020s-kafka.eastus.cloudapp.azure.com:9092'"
   ]
  },
  {
   "cell_type": "markdown",
   "metadata": {},
   "source": [
    "We will now load our data from the data store into a Pyspark Dataframes."
   ]
  },
  {
   "cell_type": "code",
   "execution_count": 24,
   "metadata": {
    "pycharm": {
     "name": "#%%\n"
    }
   },
   "outputs": [],
   "source": [
    "jdbcDF = spark.read\\\n",
    "    .format(\"jdbc\")\\\n",
    "    .option(\"url\", url)\\\n",
    "    .option(\"dbtable\", table_name)\\\n",
    "    .option(\"user\", username)\\\n",
    "    .option(\"password\", password).load()\n",
    "jdbcDF.createOrReplaceTempView(\"DataStore_Stage2\")\n",
    "\n",
    "jdbcDF = spark.sql(\n",
    "    \"\"\"select d1.Year_Rec,d1.Month_Rec,avg(d1.TMAX) TMAX,avg(d1.TMIN) TMIN\n",
    "        from DataStore_Stage2 d1\n",
    "        group by d1.Year_Rec, d1.Month_Rec\n",
    "        \"\"\")"
   ]
  },
  {
   "cell_type": "markdown",
   "metadata": {},
   "source": [
    "Load training data"
   ]
  },
  {
   "cell_type": "code",
   "execution_count": 25,
   "metadata": {
    "pycharm": {
     "name": "#%%\n"
    }
   },
   "outputs": [],
   "source": [
    "tmax = jdbcDF.select('Year_Rec', 'TMAX').dropna(how='any')\n",
    "tmin = jdbcDF.select('Year_Rec', 'TMIN').dropna(how='any')\n",
    "assembler = VectorAssembler(inputCols=['Year_Rec'], outputCol=\"features\")\n",
    "\n",
    "tmax_output = assembler.transform(tmax).drop(\"Year_Rec\") \\\n",
    "    .withColumn(\"label\", F.col(\"TMAX\")).drop(\"TMAX\")\n",
    "\n",
    "tmin_output = assembler.transform(tmin).drop(\"Year_Rec\") \\\n",
    "    .withColumn(\"label\", F.col(\"TMIN\")).drop(\"TMIN\")\n",
    "\n",
    "(trainingData_tmax, testData_tmax) = tmax_output.randomSplit([0.7, 0.3])\n",
    "(trainingData_tmin, testData_tmin) = tmin_output.randomSplit([0.7, 0.3])"
   ]
  },
  {
   "cell_type": "markdown",
   "metadata": {},
   "source": [
    "Fit the model"
   ]
  },
  {
   "cell_type": "code",
   "execution_count": 26,
   "metadata": {
    "pycharm": {
     "name": "#%%\n"
    }
   },
   "outputs": [],
   "source": [
    "glr_tmax = LinearRegression(maxIter=10, regParam=0.3)\n",
    "glr_tmin = LinearRegression(maxIter=10, regParam=0.3)\n",
    "tmax_model = glr_tmax.fit(trainingData_tmax)\n",
    "tmin_model = glr_tmin.fit(trainingData_tmin)"
   ]
  },
  {
   "cell_type": "markdown",
   "metadata": {},
   "source": [
    "Print the coefficients for the linear regression model"
   ]
  },
  {
   "cell_type": "code",
   "execution_count": 27,
   "metadata": {
    "pycharm": {
     "name": "#%%\n"
    }
   },
   "outputs": [
    {
     "name": "stdout",
     "output_type": "stream",
     "text": [
      "TMAX - Slope: 0.013724400295961512, Intercept: -15.920411330658862\n",
      "TMIN - Slope: 0.01488011713226868, Intercept: -26.493090758972276\n"
     ]
    }
   ],
   "source": [
    "print(\"TMAX - Slope: \" + str(tmax_model.coefficients[0])+\", Intercept: \"+ str(tmax_model.intercept))\n",
    "print(\"TMIN - Slope: \" + str(tmin_model.coefficients[0])+\", Intercept: \"+ str(tmin_model.intercept))"
   ]
  },
  {
   "cell_type": "markdown",
   "metadata": {},
   "source": [
    "Summarize the model over the training set"
   ]
  },
  {
   "cell_type": "code",
   "execution_count": 28,
   "metadata": {
    "pycharm": {
     "name": "#%%\n"
    }
   },
   "outputs": [
    {
     "name": "stdout",
     "output_type": "stream",
     "text": [
      "TMAX\n",
      "\tCoefficient Standard Errors: [0.0068289124971494565, 13.385502451120963]\n",
      "\n",
      "TMIN\n",
      "\tCoefficient Standard Errors: [0.005345169428535969, 10.476158305228882]\n"
     ]
    }
   ],
   "source": [
    "summary = tmax_model.summary\n",
    "print(\"TMAX\")\n",
    "tmax_slope, tmax_intercept =summary.coefficientStandardErrors\n",
    "print(\"\\tCoefficient Standard Errors: \" + str(summary.coefficientStandardErrors))\n",
    "print()\n",
    "\n",
    "print(\"TMIN\")\n",
    "summary = tmin_model.summary\n",
    "tmin_slope, tmin_intercept =summary.coefficientStandardErrors\n",
    "print(\"\\tCoefficient Standard Errors: \" + str(summary.coefficientStandardErrors))"
   ]
  },
  {
   "cell_type": "code",
   "execution_count": 29,
   "metadata": {
    "pycharm": {
     "name": "#%%\n"
    }
   },
   "outputs": [
    {
     "name": "stdout",
     "output_type": "stream",
     "text": [
      "+------------------+------------------+--------+\n",
      "|        prediction|             label|features|\n",
      "+------------------+------------------+--------+\n",
      "|10.471610438475125|21.892188241865657|[1923.0]|\n",
      "|10.553956840250894|19.979646697388638|[1929.0]|\n",
      "|10.787271645282239| 22.87394424467177|[1946.0]|\n",
      "|10.910791247945895|18.825878345489055|[1955.0]|\n",
      "|11.020586450313587| 4.061338123797829|[1963.0]|\n",
      "+------------------+------------------+--------+\n",
      "only showing top 5 rows\n",
      "\n",
      "+------------------+--------------------+--------+\n",
      "|        prediction|               label|features|\n",
      "+------------------+--------------------+--------+\n",
      "|2.1213744863803967|  11.732085745795423|[1923.0]|\n",
      "|3.2225031541682796|-0.49540387807223885|[1997.0]|\n",
      "|2.9249008115229067|    4.70122823866002|[1977.0]|\n",
      "| 2.969541162919711|  11.406262434046539|[1980.0]|\n",
      "|3.2373832713005477| -2.0989058143434973|[1998.0]|\n",
      "+------------------+--------------------+--------+\n",
      "only showing top 5 rows\n",
      "\n",
      "R Squared (R2) on test data = 0.00653426\n",
      "R Squared (R2) on test data = -0.000702741\n"
     ]
    }
   ],
   "source": [
    "tmax_predictions = tmax_model.transform(testData_tmax)\n",
    "tmin_predictions = tmin_model.transform(testData_tmin)\n",
    "\n",
    "tmax_predictions.select(\"prediction\", \"label\", \"features\").show(5)\n",
    "tmin_predictions.select(\"prediction\", \"label\", \"features\").show(5)\n",
    "\n",
    "from pyspark.ml.evaluation import RegressionEvaluator\n",
    "\n",
    "tmax_evaluator = RegressionEvaluator(predictionCol=\"prediction\", labelCol=\"label\", metricName=\"r2\")\n",
    "print(\"R Squared (R2) on test data = %g\" % tmax_evaluator.evaluate(tmax_predictions))\n",
    "tmin_evaluator = RegressionEvaluator(predictionCol=\"prediction\", labelCol=\"label\", metricName=\"r2\")\n",
    "print(\"R Squared (R2) on test data = %g\" % tmin_evaluator.evaluate(tmin_predictions))\n",
    "\n"
   ]
  },
  {
   "cell_type": "code",
   "execution_count": 30,
   "metadata": {
    "pycharm": {
     "name": "#%%\n"
    }
   },
   "outputs": [
    {
     "data": {
      "image/png": "[encoded data removed]",
      "text/plain": [
       "<Figure size 432x288 with 1 Axes>"
      ]
     },
     "metadata": {
      "needs_background": "light"
     },
     "output_type": "display_data"
    }
   ],
   "source": [
    "import matplotlib.pyplot as plt\n",
    "import numpy as np\n",
    "def abline(slope, intercept, label):\n",
    "    axes = plt.gca()\n",
    "    x_vals = np.array(axes.get_xlim())\n",
    "    y_vals = intercept + slope * x_vals\n",
    "    plt.plot(x_vals, y_vals, '--', label=label)\n",
    "\n",
    "\n",
    "ax = tmax.toPandas().sort_values(\"Year_Rec\").plot(x='Year_Rec', y='TMAX')\n",
    "tmin.toPandas().sort_values(\"Year_Rec\").plot(x='Year_Rec', y='TMIN', ax=ax)\n",
    "abline(tmax_model.coefficients[0],tmax_model.intercept, label=\"Projected TMAX\")\n",
    "abline(tmin_model.coefficients[0], tmin_model.intercept, label=\"Projected TMIN\")\n",
    "plt.legend()\n",
    "plt.show()\n"
   ]
  },
  {
   "cell_type": "markdown",
   "metadata": {
    "pycharm": {
     "name": "#%% md\n"
    }
   },
   "source": [
    "We can see that both lines fitted to the data have a positive slope coefficient, indicating a rise in temperatures.<br>\n",
    "The slope of the maximum temperatures is ~0.014, indicating that the average maximum temperature will rise by 1 degree Celsius every 71.5 years.<br>\n",
    "In addition, the slope of the maximum temperatures is ~0.015, and the minimum temperatures will rise by 1 degree Celsius every 66.6 years. <br>\n",
    "To conclude, global warming is evident in our data.\n"
   ]
  }
 ],
 "metadata": {
  "kernelspec": {
   "display_name": "Python 3",
   "language": "python",
   "name": "python3"
  },
  "language_info": {
   "codemirror_mode": {
    "name": "ipython",
    "version": 3
   },
   "file_extension": ".py",
   "mimetype": "text/x-python",
   "name": "python",
   "nbconvert_exporter": "python",
   "pygments_lexer": "ipython3",
   "version": "3.9.2"
  }
 },
 "nbformat": 4,
 "nbformat_minor": 1
}